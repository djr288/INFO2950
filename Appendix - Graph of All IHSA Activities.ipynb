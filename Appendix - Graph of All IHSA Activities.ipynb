{
 "cells": [
  {
   "cell_type": "markdown",
   "metadata": {},
   "source": [
    "![](ba.png)\n",
    "![](bad.png)\n",
    "![](bkb.png)\n",
    "![](bkg.png)\n",
    "![](bsf.png)\n",
    "![](bwb.png)\n",
    "![](bwl.png)\n",
    "![](ccb.png)\n",
    "![](ccg.png)\n",
    "![](chc.png)\n",
    "![](ct.png)\n",
    "![](dr.png)\n",
    "![](fb.png)\n",
    "![](gi.png)\n",
    "![](gob.png)\n",
    "![](gog.png)\n",
    "![](gyb.png)\n",
    "![](gyg.png)\n",
    "![](ie.png)\n",
    "![](jrn.png)\n",
    "![](mu.png)\n",
    "![](sbg.png)\n",
    "![](scb.png)\n",
    "![](sob.png)\n",
    "![](sog.png)\n",
    "![](swb.png)\n",
    "![](swg.png)\n",
    "![](tnb.png)\n",
    "![](tng.png)\n",
    "![](trb.png)\n",
    "![](trg.png)\n",
    "![](vbb.png)\n",
    "![](vbg.png)\n",
    "![](wpb.png)\n",
    "![](wpg.png)\n",
    "![](wr.png)"
   ]
  }
 ],
 "metadata": {
  "kernelspec": {
   "display_name": "Python 3",
   "language": "python",
   "name": "python3"
  },
  "language_info": {
   "codemirror_mode": {
    "name": "ipython",
    "version": 3
   },
   "file_extension": ".py",
   "mimetype": "text/x-python",
   "name": "python",
   "nbconvert_exporter": "python",
   "pygments_lexer": "ipython3",
   "version": "3.7.3"
  }
 },
 "nbformat": 4,
 "nbformat_minor": 4
}
