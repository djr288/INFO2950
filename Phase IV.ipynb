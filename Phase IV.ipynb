{
 "cells": [
  {
   "cell_type": "markdown",
   "metadata": {},
   "source": [
    "## Introduction\n",
    "\n",
    "The Illinois High School Association (IHSA)'s official [Constitution](https://www.ihsa.org/documents/forms/current/IHSA_Handbook.pdf) states \"The cornerstone of IHSA state tournaments has long been...geographic representation at State Final tournaments.\" Later, \"the geographic concept helped maintain a 'reasonableness' to competition and safeguarded key resources such as time and money, while, at the same time, providing for a structure that was equitable to all member schools.\" The paragraph ends, however, by stating \"without an official policy regarding seeding, the current system has developed into a hodgepodge that lacks consistency and an overarching rationale.\" Clearly, geographic representation is important to the IHSA, but anecdotal evidence from IHSA competitors (the author is a former IHSA student) always seems to suggest that Chicago is receiving more than its fair share of representation in the IHSA.\n",
    "\n",
    "Competitive divisions are present roughly half of all IHSA competitions, and the exact rules for each vary from activity to activity. Competitive divisions are a form of protection to maintain competitiveness and fairness within activities. A high school with 140 kids just simply will never have the resources or talent pool to beat a school with 2400 kids in a football game. A very talented and bright student in the smaller school might never be able to reap the awards he/she deserves if they only played unbalanced games, leading to fewer opportuntities for college scholarships, memories, and development. Clearly, divisions are a necessary part of competition in the IHSA. However, at no point in the IHSA constitution is a justification for competitive divisions given, nor are divisions even discussed beyond just what the cutoffs for each division are to be. It's worth determining the effect that competitive divisions have on activities in the IHSA to make an informed decisions about their effectiveness and what they tend to accomplish.\n",
    "\n",
    "The IHSA is posed with a fairly unique problem. As geographical information is such an important part of the IHSA's identity, it must somehow maintain geographic diversity in a state with one of the most extreme population divides in the country. Approximately 3/4 of the state's population is within the Chicago metro area. With such a challenge, understading how divisions impact the aspects of activities in the IHSA, especially with regards to geography, is not a task that should go unnoticed.\n",
    "\n",
    "This project looked to materialize the critiques that students had about the geographic diversity of the results of IHSA activities, and elucidate how exactly competitive divisions may impact both the competitiveness of activities. We found that across all 39 IHSA activities, there was a consistent general trend for the average location of the top few placers in each activity to get closer to Chicago as time progressed. We found that the presence of divisions in a competitive activity was correlated with a statistically significant reduction in this trend. Lastly, we observed that the presence of divisions seemed to have no relationship with the extent to which never-before-placed schools were placing over time."
   ]
  },
  {
   "cell_type": "markdown",
   "metadata": {},
   "source": [
    "## Data Description\n",
    "\n",
    "The column headers and descriptions are as follows:\n",
    "\n",
    "ABBR - Official IHSA activity abbreviation, e.g. \"MU\" for \"Music\", \"BKG\" for Girl's Basketball\n",
    "<br>DIV - Division of activity, e.g. \"A\", \"AAA\", \"3A\", \"C\", or \"none\" if the activity doesn't have divisions\n",
    "<br>YEAR - Year of activity placement, e.g. \"2011\" if for the academic year 2010-11\n",
    "<br>PLACE - Placement, e.g. \"1\" for first\n",
    "<br>SCORE - Score (if reported) to get place. Sometimes ascending, sometimes descending, e.g. \"210\"\n",
    "<br>SCHOOL - School name according to IHSA, e.g. \"Frankfort (Lincoln-Way North)\"\n",
    "<br>ID - Extension in fact page HTML, e.g. \"0322\"\n",
    "<br>LAT - Determined or approximate latitude of the school (error at most ~5 miles, typically 0)\n",
    "<br>LONG - Determined or approximate longitude of the school (error at most ~5 miles, typically 0)\n",
    "<br>EXACT - \"True\" if the latitude and longitude were pulled from IHSA website or the city they reside in according to https://citylatitudelongitude.com/IL, \"False\" if was manually entered\n",
    "<br>SIZE - *Most recent* school enrollment, **not** enrollment at time of award, according to IHSA, e.g. \"161\"\n",
    "<br>CONF - Conference, e.g. \"Fox Valley\"\n",
    "<br>TYPE - Public/private, coed, male only, etc.\n",
    "<br>COUNTY - County of high school, e.g. \"McHenry\"\n",
    "<br>BRD-DIV - IHSA Board Division number\n",
    "<br>LG-DT - IHSA Legislative Division number\n",
    "<br>OPEN - \"Closed\" or \"Open\" depending on if the school still exists\n",
    "<br>GL_DIV - Global division. A fraction (str) with a numerator equal to the relative size of the division and denominator of the maximum size for that activity-year. 0 if no divisions.\n",
    "\n",
    "**For what purpose was the dataset created?** The data was \"created\" by the teams that compete in competitive IHSA activities at the state level and recorded to make sure the competitive results were maintained. The official IHSA mission is \"the IHSA governs the equitable participation in interscholastic athletics and activities that enrich the educational experience,\" and as the governing body, they are the most reputable source to conduct the maintenance and tallying of these records which (presumably) solidifies these intangibles.\n",
    "\n",
    "**Who created the dataset?** The Illinois High School Association holds state tournaments and competitions, records their official results from these tournaments and competitions, and uploads them to their website. Some data from earlier years (the dataset contains some sports as early as the late 1800's) were obviously retroactively added, though it is unclear when and how.\n",
    "\n",
    "**Who funded the creation of the dataset?** The IHSA. It is a charter member of the National Federation of State High School Associations (NFHS), a not-for-profit organization, and is not funded by tax dollars or administered by the government in the state of Illinois. They have a list of [Corporate Partners](https://www.ihsa.org/About-the-IHSA/IHSA-Corporate-Partners), but no list of individuals or companies that fund their recordkeeping specifically. By and large, however, their income is from the fees that they charge for their sports and activities, according to a [recently self-published financial review](https://www.ihsa.org/documents/annualReport/Annual%20Financial%20Report%202016-17.pdf).\n",
    "\n",
    "**Does the dataset contain all possible instances or is it a sample (not necessarily random) of instances from a larger set? Is any information missing from individual instances?** The data contains 100% of the reported results from the 39 competitions listed above. These results, with very few exceptions, report on the top 10 schools of each year's activity's division's competition, the exceptions of which report on only a subset (e.g. top 3). Blank or incomplete data certainly exists but is only truly noticeable in the very early years of each activity, if at all.\n",
    "\n",
    "**Are there any errors, sources of noise, or redundancies in the dataset?** The data accuracy depends entirely on the recordkeepers. Although it could be that some results are falsified, mislabelled, or otherwise inaccurate, as nearly every high school in Illinois depends on the IHSA for tournament results and scores, it is unlikely. In data that was recorded before the full digitization, at least one inconsistency exists. According to [the IHSA records](https://www.ihsa.org/data/ie/records/wbyyr.htm) of IE.1940-41 (Individual Events, 1941 state competition), Savanna was listed as winning with 16 points, beating Freeport (H.S.) with 13 points, while the [nearby Daily Illini newspaper from 1941](https://idnc.library.illinois.edu/?a=d&d=DIL19410427.2.19&srpos=2&e=-------en-20--1--img-txIN-savanna+freeport--------) reports Freeport as winning with Savanna placing second. This was only found after an intense individual search for an unrelated project led to scrutinization of each row on that specific table. The official IHSA recordskeeper (jiverson@ihsa.org) has yet to comment on how the data is specifically compiled and how this discrepency could have happened. It could be that the newspaper is incorrect, but minor discrepancies like this are undoubtedly rooted somewhere deep in the data. Catching and correcting them, specifically determining which source is truly correct, would be impossible.\n",
    "\n",
    "**Is the dataset self-contained, or does it link to or otherwise rely on external resources (e.g., websites, tweets, other datasets)?** The dataset relies on information obtained elsewhere on the IHSA website: the fact pages, as mentioned earlier. This data is likely compiled by the IHSA, as it contains information that only truly the IHSA would know (IHSA-determined size, district, etc.) and are explicitly linked by the IHSA as *the* page containing *the* information about each school.\n",
    "\n",
    "**What processes might have influenced what data was observed and recorded and what was not?** As previously mentioned, the data is entirely dependent on how the recordkeepers operated at the time to report the standings and scores of each school. There are a few very exceptional examples in the dataset where a row was intentionally not reported by the IHSA (e.g. 5th place in the 2014-15 C division Cheer competition; listed as \"vacant\"), most likely due to situation that resulted in the school being banned and removed from the recordbooks because of cheating, for example. There is one activity-year where an entire competitive division's results were not reported.\n",
    "\n",
    "**What preprocessing was done, and how did the data come to be in the form that you are using?** See the \"Data Collecting and Cleaning\" section.\n",
    "\n",
    "**Is it possible to identify individuals (i.e., one or more natural persons), either directly or indirectly (i.e., in combination with other data) from the dataset?** Only aggregate school information is reported.\n",
    "\n",
    "**Over what timeframe was the data collected?** The data was pulled as recently as 28 NOV 20, with the last updates to the IHSA website occuring on 20 NOV 20."
   ]
  },
  {
   "cell_type": "markdown",
   "metadata": {},
   "source": [
    "## Preregistration Statement\n",
    "\n",
    "### Analysis I\n",
    "This analysis will (at least partially) answer the following question: Is the observable movement northeast (torwards Chicago) of the average location of each competitive activity's top schools per year greater than, equal to, or less than the center of population of Illinois's movement northeast?\n",
    "\n",
    "Consider a hypothetical Illinois that has perfectly identical high schools (identical enrollments, teachers, etc.) which are placed exactly to reflect the population distribution of Illinois presently and historically. As each high school is identical, the list of top-placing high schools in a given activity per year would be random, and thus the average location of each competitive activity's top schools would be (over very many trials) on average equal to the center of population of Illinois. As Illinois's population shifts northeast each year, the average location of each competitive activity's top schools would follow the same path (direction and magnitude).\n",
    "\n",
    "If the answer to the proposed question was that the two are nearly the same, then we couldn't reject the alternate reality that we described in the preceding paragraph. If the answer instead was that the two are significantly different, then we could reject the alternate reality and would have to conclude that some other factors are at play in the observable phenomenon than just a changing population distribution.\n",
    "\n",
    "To determine this, data pulled from the Census website will show how the center of population of Illinois has changed over each decade. Then, the angle between the straight line towards Chicago from the previous year's population center and the straight line towards the new decade's population center from the previous year's population center will be computed. The cosine of this angle will be compared with the cosine of the angle between the straight line from the previous year's determined geographic center of placers over all IHSA activities and the following year's with the straight line from the previous year's determined geographic center of placers and the straight line to Chicago. For a complete description of why this method of comparing the two vectors was chosen, see the \"Data Analysis\" section.\n",
    "\n",
    "### Analysis II\n",
    "\n",
    "Consider the extent to which a competitive activity's winners and placers (top 10, for example) change over time. There are many ways of measuring this: the effect (not necessarily causal) that a school's placement one year has on the school's likelihood of placement in future years, the number or proportion of placing schools that have or have not ever placed before, and so on. Let's call this the \"turbulence\" of an activity, and say that activities that have \"high turbulence\" are activities which have winners and placers that change comparatively more frequently than other activities, and \"low turbulence\" activities are the opposite.\n",
    "\n",
    "This analysis will (at least partially) answer the following question: Is there any relationship between the presence of divisions in a competitive activity and its turbulence? If the presence of divisions is determinde to be positively correlated with the turbulence of an activity, then divisions may be considered a way of stimulating competition and insulating an activity from being dominated by a few schools at the expense of potentially being too 'noisy' to reliably let the best schools succeed, which would devalue the competition and its associated effects (e.g. scholarships for college). If there is determined to be a negative correlation, the opposite may be true. If there is no association, then competitive activities \n",
    "\n",
    "To determine the answer to this question, we will conduct a regression to determine the nature of the relationship between the indicator variable representing the presence of divisions and the percent of placers that have never placed before in an activity-division. This will allow us to state the \"effect size\" of the presence of competitive divisions on the turbulence of said activity, with a significance test allowing us to determine if there is a significant difference between activities that do and don't have divisions."
   ]
  },
  {
   "cell_type": "markdown",
   "metadata": {},
   "source": [
    "## Data Analysis\n",
    "\n",
    "Making a statement about the geographic phenomena of IHSA activities over time necessitates a method of transforming tabulated results into geographic information. For the purposes of this first analysis, three different weighting methods were compared: a simple average of the coordinates of the listed placers in an activity-division, a weighted average of the coordinates of the listed placers by placement where the last listed team gets 1 point and the second to last gets 2 points and so on, or a weighted average by reported score. Tournament scores were reported by the IHSA, but the problem becomes much more complex when deciding how many points to award say, a semifinalist who lost 0-14. Do they get 0 points? The sum of the points they scored up to this round? The chosen method of determining points for a tournament-based activity was to award each school one point for each round in a tournament that they won. This does mean, however, that the third place school, which plays in a redemption round with the other seminfinalist loser, receives as many points as the second place school because they won the same amount of rounds. As tournament do not produce a relative rankings list (only a winner, second place, two semifinalists or a third and fourth place, four quarterfinalists, etc.), tournament-based activities were not included in the placement-based weighting algorithm. To see how each weighting method compares, each table of results (i.e. each activity-year-division) across the entirety of IHSA competitive activities was evaluated using each of these three methods to determine a geographic center, and the pairwise latitude-longitude differences can be observed below, with mean and 95% confidence intervals in red.\n",
    "\n",
    "![](eq_minus_pt.png)\n",
    "![](pt_minus_pl.png)\n",
    "![](eq_minus_pl.png)\n",
    "\n",
    "For reference, Illinois spans almost 6 units in latitude and just over 4 units in longitude. Thus the choice of weighting method appears to not make hardly any difference on the returned coordinates, but one method must be chosen. As place-weighting was inconsistent with the other methods, the preferred method of weighting for future analyses could be either equal-weighting or points-weighting, and as equal-weighting is more straightfoward and complete (some tables are missing score information), equal-weighting became the method used in future geographic analyses. It's worth noting the apparent SW-to-NE shear that each scatterplot shows, which might be the sign of a slight relationship in each of the weighting methods.\n",
    "\n",
    "Using the method described above, a graph of the average coordinates of each year-activity-division was produced to show the movement of the top few placers in each division of each activity over time. For each division within an activity, the line that shows the movement of the average coordinates over time is shown with a diamond denoting the start of the path and an \"X\" denoting the end, with arrows showing the direction of travel over time. An example is shown below, for the competitive IHSA activity Chess Club.\n",
    "\n",
    "![](ct_example.png)\n",
    "\n",
    "The data appears highly variable, which makes sense considering how each year schools change approximately 1/4 of their potential competitors, and the variablity within competitions is still considerable for fixed participants (look at any professional sport - consistent winners or losers are usually rare). To get an understanding of what the *trend* of an activity's average coordinates are and eliminate some of the noise, a moving window may be applied to the coordinates we observe. This is not just to make the graphs easier to read (although it helps); it paints a more accurate picture of how the activity changes over time by only showing more significant, overarching trends in the data. Trial-and-error determined that a 10-year moving window applied across the data strikes an optimal balance between highlighting change and preserving order in the data. Later in the analyses, a more technical defence of the choice of a 9-year moving window will be presented. Note that this means that only divisions which have been around for 10 consecutive years can be plotted. Furthermore, an activity may gain or lose several divisions over time. Applying a 9-year rolling window to a competitive division that was just introduced or modified would not make sense, as the division no longer represents the same schools. Thus, in all future analyses with this 9-year window, only divisions that have been around for 10 consecutive years without alteration will be tabulated. This shrinks the dataset to $\\frac{2032}{3185}=64\\%$ of the original amount of points plotted. Observe the same graph as before, but with the 9-year rolling window applied.\n",
    "\n",
    "![](ct_example_2.png)\n",
    "\n",
    "Not only is the data much more organized, but a clear generally NE trend can be observed in both the \"A\" division and divisionless competitions, while the \"AA\" division tends to go SW. Furthermore, it would appear that the larger \"AA\" division appears to be further NE, i.e. closer to Chicago, than the \"A\" division, while when the two are combined into a single competition, i.e. no divisions, then they appear to be even closer to Chicago and further NE than when they were separated. It would seem to make sense that the larger divisions on average would be closer to Chicago, as that's where the larger schools tend to be.\n",
    "\n",
    "To determine to what extent this intuition is reflected in the dataset, across each year-activity, the calculated coordinates of each division were calculated and the distance to Chicago was calculated. Then, for each year-activity, all possible pairwise comparisons were evaluated to determine which division is closer to Chicago (i.e. if one year had an activity with 4 divisions, 6 comparisons would be made). This was done over a range of possible rolling windows, from a 1-year (i.e. no window, just the original data) to a 25-year window. The proportion of times that the larger division was closer to Chicago than the smaller division was plotted with respect to the window size, the results of which are shown below with 95% confidence intervals on each point.\n",
    "\n",
    "![](window_size.png)\n",
    "\n",
    "Almost 90% of the time the larger divisions were further NE and closer to Chicago than the smaller divisions. This graph also shows that a 9-year rolling window is both one of the largest windows before the confidence interval increases (visually) significantly and the largest window to seem to preserve the relative ordering NE of the divisions across all activities (compared to the 1-year \"window\" of original data).\n",
    "\n",
    "Looking back on the example graph of Chess Club results, there appeared to be a movement NE over time. Looking at some of the other graphs of other activities (see appendix), this trend appears to be a visual phenomenon across all divisions, but to what extent is that movement NE actually occuring, to what extent do divisions impact this trend, and to what extent is this explained by just the shifting demographics of Illinois?\n",
    "\n",
    "To answer the first two questions, the rolling 9-year window was applied to each activity-division with the same caveats as listed before. Then, the vector from one year's 9-year average coordinates to the next year's was calculated and compared to the vector points towards Chicago. The cosine of the angle between these two vectors was chosen as the metric to evaluate the extent to which the result moved towards Chicago. It may seem counterintuitive to not include magnitude or any other metric to determine the answer to the research question, but the cosine angle was chosen specifically to reflect the *trends* in the lines on the graphs over Illinois that we saw earlier. To include magnitude would put an emphasis on how quickly or exactly when these trends are occuring, which we have no reason to believe is constant across activities, divisions, or years. If there is some force that is pushing the average location further NE in general, it may manifest itself differently given the different demographics in each activity, the different resources that go into each activity, and so on.\n",
    "\n",
    "Using this metric to determine the extent to which activities are moving NE does lead to some pitfalls. If an activity were to make a giant leap NE in one year, then take the next 10 years to go the same distance SW back to where it started, then this metric would weight the movement SW 10 times as much as the movement NE, despite no net change in location. However, we are interested in what is most consistently occuring across each activity and division, and as the movement SW is more consistent, it *should* be weighted more. The first movement NE is more likely to have occured due to some sudden change in that activity (perhaps the rules or demographics), while the underlying trend SW is likely more systemic if it is reflected in the rest of the activities. Similarly, if an activity spends years mostly around one point then suddenly jumps NE only to then again sepnd years mostly hovering around those coordinates, it is less likely to be a result of systemic change and rather the result of a sudden, individualistic change in that activity, and thus *should* be weighted less despite the great net movement NE.\n",
    "\n",
    "The average cosine of the angle between perfect movement towards Chicago and the actual movement given a 9-year window in each activity-year was determined as a function of how many years since that activity with those exact divisions began. For example, when IHSA Baseball added two divisions in 2002, it wasn't until 2012 (9 years +1 year to determine movement) that the first cosine angle of the new divisions was factored into the \"0\" year of the graph below. The x-axis shows relative time rather than absolute time (e.g. 2013) so the graph conveys information about the persistent changes that all activities are faced with as a function of the passage of time, rather than a function of the era. This also places all activities on the same time scale, while absolute time would reflect changes in the composition of activities in the IHSA (in general, more divisions as the year approaches today). Each year is an average of the all the data that comes before it. As there is less data as time goes on (activities seem to change the amount of divisions every 20-30 years), the plots tends to vary greatly before settling on an average that is changed marginally by the few activities that persist with consistent divisions beyond three decades. The results are shown below.\n",
    "\n",
    "![](important_graph.png)\n",
    "\n",
    "Both activities with divisions and divisionless activities appear to have at least a slight tendency to move NE over time, with divisionless activities experiencing the trend NE far greater than activities with divisions. In the first few years of both types of activities, though, they both seem to move more consistently towards Chicago than away from it.\n",
    "\n",
    "To address the extent to which this could be considered a function of the changing center of population of Illinois, we consider our preregistered statement analysis I. Observe the calculated decade-by-decade trend in Illinois's center of population from 1900 to 2010, plotted similarly to the examples above.\n",
    "\n",
    "![](il_pop.png)\n",
    "\n",
    "The trend appears to initially move towards Chicago then falters somewhat before remaining generally stagnant. Each year was interpolated across the decades, as given the large population of Illinois it would be reasonable to assume that the change in coordinates happened evenly, gradually, and consistently over time between the Census years. It's not, however, as safe an assumption to think that the angle (and thus the cosine of the angle) of the vector towards Chicago would change constantly across the years in-between Census years because we can see that for about the last four decades the population center has barely changed position at all. The relatively minor fluctuations when compared to the earlier data (which had a clear trend NE) would result in nonsense data about the cosine of the angle to Chicago. Below is pictured the same information as the previous graph but this time with the interpolated Illinois population center data on an absolute time scale. Note the initial extremities before the rolling average had enough time to stabilize the graph despite the fact that the starting year was arbitrary (it could have been in the 1800s), again suggesting that this is an inappropriate way of measuring the correlation.\n",
    "\n",
    "![](less_important_graph.png)\n",
    "\n",
    "It can clearly be seen that the direction of the movement of Illinois's changing population center is not correlated with the average yearly change of each type of competitive activity in the fashion described above, but intuition would suggest that this lack of correlation is primarily due to the caveats of the graphing method that have already been mentioned. To paint a more accurate picture of how (or if) the Illinois population data is correlated with the IHSA activities data, we again took only the data that had 10 years (9 year window + 1 year for change) of consistent divisions or lack of divisions, computed the set of vectors each year that show the changes in the equally-weighted average coordinates of each division in each activity from last year, and determined what the average cosine of the angle was with the vector describing the change in Illinois's population center for that year. The year-by-year averages and cumulative averages are shown below, both by division and over the dataset as a whole.\n",
    "\n",
    "![](to_il_pop.png)\n",
    "![](by_div_to_il_pop.png)\n",
    "\n",
    "Finally, to determine the impact of divisions in a different aspect than geography, consider our preregistered statement analysis II. In the exact fashion outlined in the statement, the results of which are shown below.\n",
    "\n",
    "![](final_graph.png)\n",
    "\n",
    "The two are very nearly identical, suggesting that the presence of divisions in activities does not impact the extent to which new placers are capable of placing."
   ]
  },
  {
   "cell_type": "markdown",
   "metadata": {},
   "source": [
    "## Evaluation of Significance\n",
    "\n",
    "For a window length of 9 years, a 95% confidence interval for a binomial proportion of 86.04% to 89.51% shows that we can reasonably conclude that the larger divisions are on average closer to Chicago than smaller divisions of the same activity in the same year. This means that we must reject the null hypothesis that the size of a division has no bearing on its proximity to Chicago.\n",
    "\n",
    "To determine the significance of how divisions impact the trend towards Chicago, a two-sample t-test was conducted with the following data: Divisions mean cosine = 0.010404, sample size = 885, standard deviation = 0.744718. Divisionsless mean cosine = 0.08479, sample size = 870, standard deviation = 0.761873. From this, we get a p-value of 0.0387. At a 0.05 significance level, this result is significant. In other words, all else considered equal, the difference in the mean cosine distances to Chicago are likely not due to chance alone, so the presence of divisions in an activity segments the data into two separate, significantly different groups.\n",
    "\n",
    "To determine the significance of the correlation between the changing center of population of Illinois and the data from the IHSA, a single-mean significance test was conducted with the aggregate data (the last point plotted in the cumulative average plot for the cosine distance to Illinois's changing population center) with observations as follows: mean cosine = 0.03041, sample size = 1449, standard deviation = 0.7465, null hypothesis mean cosine = 0. From this, we get a p-value of 0.1212 with a 95% confidence interval from -0.0081 to 0.0689. Thus, there is insufficient evidence to reject the null hypothesis, and we must conclude that there is not a significant correlation between the direction of change in Illinois's population center and the direction of change in the weight center of the top placers in IHSA activities. To determine if the presence of divisions had a significant impact on this relationship, a two-sample t-test was conducted with the following data: Divisions mean cosine = 0.01414, sample size = 705, standard deviation = 0.72800. Divisionsless mean cosine = 0.045818, sample size = 744, standard deviation = 0.76378. From this, we get a p-value of 0.4197. At a 0.05 significance level, this result is not significant. In other words, all else considered equal, the presence or absence of divisions in a competitive activity did not have a significant impact on the relationship outlined above."
   ]
  },
  {
   "cell_type": "markdown",
   "metadata": {},
   "source": [
    "## Interpretation and Conclusions\n",
    "\n",
    "The weighting method and choice of window year reveal little about the dataset itself, but rather act as tools to allow us to gather and interpret meaningful information.\n",
    "\n",
    "As for the average cosine of yearly change toward Chicago, we found that the presence of divisions had a significant impact on the tendency of an activity's average weighted center coordinates to move NE towards Chicago. Specifically, with a p-value of 0.0387 for the difference in means between activities with divisions and activities without them, we observe that presence of divisions appear to countteract this slight tendency to move towards Chicago that was observed across all activities. At no point in our analysis were we able to prove causality, which is important to note, as activities without divisions may simply be younger activities that have less interest on a per-school basis and thus have weighted average coordinates that are more subject to other forces (expressed as noise and uncertainty in our data) than activities with divisions. What is not uncertain, though, is that this difference is present.\n",
    "\n",
    "To determine if this observed tendency to move towards Chicago as time progresses is a function of simply changing population demographics, our significance test from the previous section revealed that there is insufficient evidence to conclude that Illinois's population center changes in the same fashion as the events do, both on the whole and by presence/lack of divisions. Thus, there must be some other reason why this appears to be consistently happening across all IHSA activities, as the only thing that most share in common is the overarching governing body; it would seem unreasonable to suggest that some larger force is not at play here, considering that this trend occured over 39 events and it would stand to reason that most IHSA member schools have mostly independent activities. That is to say, as most schools likely have different coaches, students, funds, and other external factors per activity that they compete in, this trend is probably not the result of changes within each member school, but rather changes or constants across all IHSA activities. The source of this is likely not population change alone as we have already mentioned, and thus may just be a natural consenquence of the structure of the IHSA to favor Chicagoan schools increasingly as time progresses. \n",
    "\n",
    "This trend isn't necessarily \"good\" or \"bad,\" that is to say, this apparent gradual favoring of Chicago high schools is not strictly a phenomenon that is unfair to smaller schools outside of Chicago. Sports and activities are manmade creations, and the mechanisms that dictate which school or who is or is not successful within that activity are consequences of the rules and regulations which have no footing in nature. If the NFL decided that passing was no longer allowed, it quite simply could do that; it isn't strictly 'unfair' to teams with a weak ground game. The fact that the IHSA has activities without divisions that tend to move towards Chicago as time progresses says little to none about the IHSA, the high schools, or the students who compete. Pondering what causes this phenomenon and determining if this is something that the IHSA should act on to protect its member schools from experiencing stems from first observing the significant difference that activities with divisions have.\n",
    "\n",
    "In other aspects, competitive divisions in an activity do not affect the nature of the activity, as evidenced by the final graph, which showed almost no difference in the proportion of new winners and placers over time for activities with divisions and activities without divisions. Understanding how divisons impact other aspects of competition is equally as important in determining if this is something that the IHSA should continue to maintain or abandon should it wish to address the NE trend towards Chicago."
   ]
  },
  {
   "cell_type": "markdown",
   "metadata": {},
   "source": [
    "## Limitations\n",
    "\n",
    "The data itself contains very little reporting bias as the scores, locations, and places of each school are by and large unambiguous. However, none of the graphs shown above were normalized by activity. That is to say an activity like IHSA Football, which has 8 competitive divisions, produced 8 separate data points about the movement of its center coordinates per year while an activity like Chess Club, which had only 2 competitive divisions, produced only 2 data points per year. Thus, all graphs which show a split by the presence of division tend to have a divisions dataset weighted more by the activities with more divisions, which limits the generalizability of the results across all activities. This doesn't so strictly limit the validity of the conclusions about the differences between activities with and without divisions, as our data was concerned with the effect of introducing divisions, so introducing many divisions would probably amplify that effect and allow us to see it more clearly.\n",
    "\n",
    "Each IHSA activity has its own set of rules and regulations that are mostly independent of the other activities. As we are obtaining information across a diverse set of activities, the results we draw highlight changes that likely extend beyond the scope of any one activity or even group of activities, but that is not to say that the observed differences and similarities between activities with and without divisions is a result of the divisions themselves. It could be, for example, that activities that have divisions also have a larger rules committee that is more able to respond to changes and counterract whatever led to the trend NE that activities without divisions appear to be experiencing.\n",
    "\n",
    "The IHSA explicitly acknolwedges that geographic diversity should -- at some level -- be a consideration in establishing policies and rule changes (see the Introduction), and as such sets up tournaments in such a fashion that the brackets guarantee at least some baseline level of geographic diversity which isn't guaranteed by non-tournament activities. 13 activities operate in this format, of which 7 have divisions and 5 do not (IHSA wrestling has both had and not had both divisions and tournaments and thus does not fit cleanly into either category), but 6 of the 7 activities with divisions (excluding Boy's Football) started out their first few years (usually decades) without divisions. Thus, as divisions may effect the geographic tendencies of tournament-based activities differently than non-tournament-based activities, the exact effect of introducing divisions alone is somewhat obscured, but as the current split between the presence and absence of divisions within tournament-based activities is almost even, this potential confounding effect is likely evenly applied to both categories of the dataset.\n",
    "\n",
    "Our use of the cosine distance to compare the trends in both Illinois's population center and the IHSA data naturally limits the scope of the conclusions and introduces some nuance in how the results should be interpreted. If we really wanted a deeper understanding of the significance of the geographic difference detected between activities with divisions and activities without divisions, we should compare our findings to other choices of vectors than just the change in Illinois's population center and the straight line towards Chicago. Comparing this metric to the average cosine distance of other vectors (either static, like the vector that points exactly NE, or dynamic, like the straight line to Chicago) would allow us to determine if this result is truly significant *because* we were looking at the deviation from a straight line to Chicago or because that vector happened to coincide with another more important, deterministic vector (like the vector that points NE; perhaps the innate tendency isn't to drift towards Chicago but rather to simply drift NE). Thus, we cannot conclude that Chicago or Illinois's population center is the reason why these trends exist, but rather that differences do exist when taken from that perspective.\n",
    "\n",
    "Finally, the method of averaging cosines of angles limits our understanding of the results we observed. For example, the aggergate mean cosine distance for divisionless activities to the vector towards Chicago was just under 0.1. This doesn't mean that the average angle is the inverse cosine of 0.1, and we don't know the distribution of the cosine of the angles (we could have, but just did not include that in our analysis) so we cannot conclude that there is anything special about the vectors that are off from the straight line to Chicago by an angle of the inverse cosine of 0.1, but just that the trend is generally more towards Chicago than away from it."
   ]
  },
  {
   "cell_type": "markdown",
   "metadata": {},
   "source": [
    "## Source Code\n",
    "\n",
    "https://github.com/djr288/INFO2950"
   ]
  },
  {
   "cell_type": "markdown",
   "metadata": {},
   "source": [
    "## Acknowledgements\n",
    "\n",
    "The method \"lighten_color\" was copied and pasted directly from https://stackoverflow.com/questions/37765197/darken-or-lighten-a-color-in-matplotlib, and was only used to lighten the color of the arrows on the plots that show the direction of movement.\n",
    "\n",
    "At one point in the analysis, it was necessary to check if a column only contained numeric values (the score section, if a tournament was listed, the score would be a string like \"quarterfinalist\") to determine the weighted score. The one line of code was inspired by this stack overflow: https://stackoverflow.com/questions/54426845/how-to-check-if-a-pandas-dataframe-contains-only-numeric-column-wise\n",
    "\n",
    "Matplotlib documentation was used extensively to create legends and make the graphs look tidier.\n",
    "\n",
    "All data was pulled from official IHSA websites or from the officially published Census website."
   ]
  }
 ],
 "metadata": {
  "kernelspec": {
   "display_name": "Python 3",
   "language": "python",
   "name": "python3"
  },
  "language_info": {
   "codemirror_mode": {
    "name": "ipython",
    "version": 3
   },
   "file_extension": ".py",
   "mimetype": "text/x-python",
   "name": "python",
   "nbconvert_exporter": "python",
   "pygments_lexer": "ipython3",
   "version": "3.7.3"
  }
 },
 "nbformat": 4,
 "nbformat_minor": 4
}
